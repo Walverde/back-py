{
 "cells": [
  {
   "cell_type": "code",
   "execution_count": 1,
   "metadata": {},
   "outputs": [],
   "source": [
    "import pandas as pd\n",
    "import pymongo\n",
    "import matplotlib.pyplot as plt\n",
    "\n",
    "client=pymongo.MongoClient('mongodb://192.168.0.31:27017')\n"
   ]
  },
  {
   "cell_type": "code",
   "execution_count": 2,
   "metadata": {},
   "outputs": [],
   "source": [
    "mydb=client['ESP']\n",
    "#BIN=mydb.Con\n",
    "Bin=mydb.BIN\n",
    "Con=mydb.Con"
   ]
  },
  {
   "cell_type": "code",
   "execution_count": 6,
   "metadata": {},
   "outputs": [],
   "source": [
    "DL1 = list(Con.find())\n",
    "DD1 = dict(Con.find())"
   ]
  },
  {
   "cell_type": "markdown",
   "metadata": {},
   "source": [
    "Con.drop()"
   ]
  },
  {
   "cell_type": "code",
   "execution_count": 7,
   "metadata": {},
   "outputs": [
    {
     "data": {
      "text/plain": [
       "[{'payload': \"{'TEMPO': 154300, 'SENSORV5': 1024.00'SENSORV0': 999.00, 'SENSORV1': 946.00, 'SENSORV2': 841.00, 'TEMPERATURA1':  22.99, 'TEMPERATURA2':  24.57, }\",\n",
       "  '_id': ObjectId('5f03659b7af9bb01a25b7c02')},\n",
       " {'payload': \"{'TEMPO': 156301, 'SENSORV5': 1024.00'SENSORV0': 675.00, 'SENSORV1': 648.00, 'SENSORV2': 642.00, 'TEMPERATURA1':  23.31, 'TEMPERATURA2':  24.89, }\",\n",
       "  '_id': ObjectId('5f03659d7af9bb01a25b7c05')}]"
      ]
     },
     "execution_count": 7,
     "metadata": {},
     "output_type": "execute_result"
    }
   ],
   "source": [
    "DL1"
   ]
  },
  {
   "cell_type": "code",
   "execution_count": 11,
   "metadata": {},
   "outputs": [],
   "source": [
    "D2 = str(DL1)"
   ]
  },
  {
   "cell_type": "code",
   "execution_count": 17,
   "metadata": {},
   "outputs": [
    {
     "data": {
      "text/plain": [
       "'[{\\'payload\\': \"{\\'TEMPO\\': 1755689, \\'SENSORV1\\': 1024.00, \\'SENSORV2\\': 1024.00, \\'TEMPERATURA1\\':  22.03, \\'TEMPERATURA2\\':  24.25, \\'SENSORV5\\': 1024.00\\'SENSORV0\\': 1011.00, }\", \\'_id\\': ObjectId(\\'5f0350d77af9bb01a25b6080\\')}, {\\'payload\\': \"{\\'TEMPO\\': 1758690, \\'SENSORV1\\': 992.00, \\'SENSORV2\\': 972.00, \\'TEMPERATURA1\\':  22.03, \\'TEMPERATURA2\\':  24.25, \\'SENSORV5\\': 1024.00\\'SENSORV0\\': 850.00, }\", \\'_id\\': ObjectId(\\'5f0350da7af9bb01a25b6084\\')}, {\\'payload\\': \"{\\'TEMPO\\': 1761691, \\'SENSORV1\\': 828.00, \\'SENSORV2\\': 801.00, \\'TEMPERATURA1\\':  21.71, \\'TEMPERATURA2\\':  24.25, \\'SENSORV5\\': 1024.00\\'SENSORV0\\': 690.00, }\", \\'_id\\': ObjectId(\\'5f0350dd7af9bb01a25b6088\\')}, {\\'payload\\': \"{\\'TEMPO\\': 1764692, \\'SENSORV1\\': 693.00, \\'SENSORV2\\': 690.00, \\'TEMPERATURA1\\':  21.71, \\'TEMPERATURA2\\':  24.25, \\'SENSORV5\\': 1024.00\\'SENSORV0\\': 666.00, }\", \\'_id\\': ObjectId(\\'5f0350e07af9bb01a25b608c\\')}, {\\'payload\\': \"{\\'TEMPO\\': 1767693, \\'SENSORV1\\': 696.00, \\'SENSORV2\\': 725.00, \\'TEMPERATURA1\\':  21.71, \\'TEMPERATURA2\\':  24.25, \\'SENSORV5\\': 1024.00\\'SENSORV0\\': 829.00, }\", \\'_id\\': ObjectId(\\'5f0350e37af9bb01a25b6090\\')}]'"
      ]
     },
     "execution_count": 17,
     "metadata": {},
     "output_type": "execute_result"
    }
   ],
   "source": [
    "D2"
   ]
  },
  {
   "cell_type": "code",
   "execution_count": 28,
   "metadata": {},
   "outputs": [],
   "source": [
    " #l2 = str(lista).strip('[]')\n",
    " D3 = str(D2).strip('[]')"
   ]
  },
  {
   "cell_type": "code",
   "execution_count": 30,
   "metadata": {},
   "outputs": [
    {
     "ename": "SyntaxError",
     "evalue": "EOF while scanning triple-quoted string literal (<ipython-input-30-bc24d23d6e07>, line 1)",
     "output_type": "error",
     "traceback": [
      "\u001b[1;36m  File \u001b[1;32m\"<ipython-input-30-bc24d23d6e07>\"\u001b[1;36m, line \u001b[1;32m1\u001b[0m\n\u001b[1;33m    D4 = str(D3).strip(''')\u001b[0m\n\u001b[1;37m                           ^\u001b[0m\n\u001b[1;31mSyntaxError\u001b[0m\u001b[1;31m:\u001b[0m EOF while scanning triple-quoted string literal\n"
     ]
    }
   ],
   "source": [
    "D4 = str(D3).strip(''')"
   ]
  },
  {
   "cell_type": "raw",
   "metadata": {},
   "source": [
    "pdPrint = []\n",
    "#control = 0\n",
    "for i in D1:\n",
    "#    control = control + 1\n",
    "    va = i['DATA']\n",
    "    pdPrint.append(va)"
   ]
  },
  {
   "cell_type": "code",
   "execution_count": 32,
   "metadata": {},
   "outputs": [],
   "source": [
    "pdPrint = []\n",
    "#control = 0\n",
    "for i in DL1:\n",
    "#    control = control + 1\n",
    "    va = i['payload']\n",
    "    pdPrint.append(va)"
   ]
  },
  {
   "cell_type": "code",
   "execution_count": 33,
   "metadata": {},
   "outputs": [
    {
     "data": {
      "text/plain": [
       "[\"{'TEMPO': 1755689, 'SENSORV1': 1024.00, 'SENSORV2': 1024.00, 'TEMPERATURA1':  22.03, 'TEMPERATURA2':  24.25, 'SENSORV5': 1024.00'SENSORV0': 1011.00, }\",\n",
       " \"{'TEMPO': 1758690, 'SENSORV1': 992.00, 'SENSORV2': 972.00, 'TEMPERATURA1':  22.03, 'TEMPERATURA2':  24.25, 'SENSORV5': 1024.00'SENSORV0': 850.00, }\",\n",
       " \"{'TEMPO': 1761691, 'SENSORV1': 828.00, 'SENSORV2': 801.00, 'TEMPERATURA1':  21.71, 'TEMPERATURA2':  24.25, 'SENSORV5': 1024.00'SENSORV0': 690.00, }\",\n",
       " \"{'TEMPO': 1764692, 'SENSORV1': 693.00, 'SENSORV2': 690.00, 'TEMPERATURA1':  21.71, 'TEMPERATURA2':  24.25, 'SENSORV5': 1024.00'SENSORV0': 666.00, }\",\n",
       " \"{'TEMPO': 1767693, 'SENSORV1': 696.00, 'SENSORV2': 725.00, 'TEMPERATURA1':  21.71, 'TEMPERATURA2':  24.25, 'SENSORV5': 1024.00'SENSORV0': 829.00, }\"]"
      ]
     },
     "execution_count": 33,
     "metadata": {},
     "output_type": "execute_result"
    }
   ],
   "source": [
    "pdPrint"
   ]
  },
  {
   "cell_type": "code",
   "execution_count": 34,
   "metadata": {},
   "outputs": [],
   "source": [
    "pdPrint2 = []\n",
    "#control = 0\n",
    "for i1 in pdPrint:\n",
    "#    control = control + 1\n",
    "    va1 = i1\n",
    "    pdPrint2.append(va1)"
   ]
  },
  {
   "cell_type": "code",
   "execution_count": 35,
   "metadata": {},
   "outputs": [
    {
     "data": {
      "text/plain": [
       "[\"{'TEMPO': 1755689, 'SENSORV1': 1024.00, 'SENSORV2': 1024.00, 'TEMPERATURA1':  22.03, 'TEMPERATURA2':  24.25, 'SENSORV5': 1024.00'SENSORV0': 1011.00, }\",\n",
       " \"{'TEMPO': 1758690, 'SENSORV1': 992.00, 'SENSORV2': 972.00, 'TEMPERATURA1':  22.03, 'TEMPERATURA2':  24.25, 'SENSORV5': 1024.00'SENSORV0': 850.00, }\",\n",
       " \"{'TEMPO': 1761691, 'SENSORV1': 828.00, 'SENSORV2': 801.00, 'TEMPERATURA1':  21.71, 'TEMPERATURA2':  24.25, 'SENSORV5': 1024.00'SENSORV0': 690.00, }\",\n",
       " \"{'TEMPO': 1764692, 'SENSORV1': 693.00, 'SENSORV2': 690.00, 'TEMPERATURA1':  21.71, 'TEMPERATURA2':  24.25, 'SENSORV5': 1024.00'SENSORV0': 666.00, }\",\n",
       " \"{'TEMPO': 1767693, 'SENSORV1': 696.00, 'SENSORV2': 725.00, 'TEMPERATURA1':  21.71, 'TEMPERATURA2':  24.25, 'SENSORV5': 1024.00'SENSORV0': 829.00, }\"]"
      ]
     },
     "execution_count": 35,
     "metadata": {},
     "output_type": "execute_result"
    }
   ],
   "source": [
    "pdPrint2"
   ]
  },
  {
   "cell_type": "code",
   "execution_count": 49,
   "metadata": {},
   "outputs": [
    {
     "ename": "SyntaxError",
     "evalue": "EOL while scanning string literal (<ipython-input-49-daa6c90d8dff>, line 1)",
     "output_type": "error",
     "traceback": [
      "\u001b[1;36m  File \u001b[1;32m\"<ipython-input-49-daa6c90d8dff>\"\u001b[1;36m, line \u001b[1;32m1\u001b[0m\n\u001b[1;33m    str(pdPrint2).strip(''\"')\u001b[0m\n\u001b[1;37m                             ^\u001b[0m\n\u001b[1;31mSyntaxError\u001b[0m\u001b[1;31m:\u001b[0m EOL while scanning string literal\n"
     ]
    }
   ],
   "source": [
    "str(pdPrint2).strip(''\"')"
   ]
  },
  {
   "cell_type": "code",
   "execution_count": 18,
   "metadata": {},
   "outputs": [],
   "source": [
    "vdf = pd.DataFrame(pdPrint)"
   ]
  },
  {
   "cell_type": "code",
   "execution_count": 50,
   "metadata": {},
   "outputs": [
    {
     "data": {
      "text/plain": [
       "[\"{'TEMPO': 1755689, 'SENSORV1': 1024.00, 'SENSORV2': 1024.00, 'TEMPERATURA1':  22.03, 'TEMPERATURA2':  24.25, 'SENSORV5': 1024.00'SENSORV0': 1011.00, }\",\n",
       " \"{'TEMPO': 1758690, 'SENSORV1': 992.00, 'SENSORV2': 972.00, 'TEMPERATURA1':  22.03, 'TEMPERATURA2':  24.25, 'SENSORV5': 1024.00'SENSORV0': 850.00, }\",\n",
       " \"{'TEMPO': 1761691, 'SENSORV1': 828.00, 'SENSORV2': 801.00, 'TEMPERATURA1':  21.71, 'TEMPERATURA2':  24.25, 'SENSORV5': 1024.00'SENSORV0': 690.00, }\",\n",
       " \"{'TEMPO': 1764692, 'SENSORV1': 693.00, 'SENSORV2': 690.00, 'TEMPERATURA1':  21.71, 'TEMPERATURA2':  24.25, 'SENSORV5': 1024.00'SENSORV0': 666.00, }\",\n",
       " \"{'TEMPO': 1767693, 'SENSORV1': 696.00, 'SENSORV2': 725.00, 'TEMPERATURA1':  21.71, 'TEMPERATURA2':  24.25, 'SENSORV5': 1024.00'SENSORV0': 829.00, }\"]"
      ]
     },
     "execution_count": 50,
     "metadata": {},
     "output_type": "execute_result"
    }
   ],
   "source": [
    "pdPrint"
   ]
  },
  {
   "cell_type": "code",
   "execution_count": null,
   "metadata": {},
   "outputs": [],
   "source": [
    "remover = \" \" \"\n",
    "for i in range(0,len(pdPrint)):\n",
    "    pdPrint = pdPrint.replace(remover[i],\"\")"
   ]
  },
  {
   "cell_type": "code",
   "execution_count": 19,
   "metadata": {},
   "outputs": [
    {
     "data": {
      "text/plain": [
       "(3, 1)"
      ]
     },
     "execution_count": 19,
     "metadata": {},
     "output_type": "execute_result"
    }
   ],
   "source": [
    "vdf.shape"
   ]
  },
  {
   "cell_type": "code",
   "execution_count": 28,
   "metadata": {},
   "outputs": [
    {
     "data": {
      "text/html": [
       "<div>\n",
       "<style scoped>\n",
       "    .dataframe tbody tr th:only-of-type {\n",
       "        vertical-align: middle;\n",
       "    }\n",
       "\n",
       "    .dataframe tbody tr th {\n",
       "        vertical-align: top;\n",
       "    }\n",
       "\n",
       "    .dataframe thead th {\n",
       "        text-align: right;\n",
       "    }\n",
       "</style>\n",
       "<table border=\"1\" class=\"dataframe\">\n",
       "  <thead>\n",
       "    <tr style=\"text-align: right;\">\n",
       "      <th></th>\n",
       "      <th>0</th>\n",
       "    </tr>\n",
       "  </thead>\n",
       "  <tbody>\n",
       "    <tr>\n",
       "      <th>0</th>\n",
       "      <td>{'TEMPO': 40335, 'SENSORV0': 702.00, 'SENSORV1...</td>\n",
       "    </tr>\n",
       "    <tr>\n",
       "      <th>1</th>\n",
       "      <td>{'TEMPO': 43336, 'SENSORV0': 681.00, 'SENSORV1...</td>\n",
       "    </tr>\n",
       "    <tr>\n",
       "      <th>2</th>\n",
       "      <td>{'TEMPO': 46337, 'SENSORV0': 654.00, 'SENSORV1...</td>\n",
       "    </tr>\n",
       "  </tbody>\n",
       "</table>\n",
       "</div>"
      ],
      "text/plain": [
       "                                                   0\n",
       "0  {'TEMPO': 40335, 'SENSORV0': 702.00, 'SENSORV1...\n",
       "1  {'TEMPO': 43336, 'SENSORV0': 681.00, 'SENSORV1...\n",
       "2  {'TEMPO': 46337, 'SENSORV0': 654.00, 'SENSORV1..."
      ]
     },
     "execution_count": 28,
     "metadata": {},
     "output_type": "execute_result"
    }
   ],
   "source": [
    "fdf"
   ]
  },
  {
   "cell_type": "code",
   "execution_count": 20,
   "metadata": {},
   "outputs": [],
   "source": [
    "fdf = vdf[0:50000]"
   ]
  },
  {
   "cell_type": "code",
   "execution_count": 21,
   "metadata": {},
   "outputs": [
    {
     "data": {
      "text/html": [
       "<div>\n",
       "<style scoped>\n",
       "    .dataframe tbody tr th:only-of-type {\n",
       "        vertical-align: middle;\n",
       "    }\n",
       "\n",
       "    .dataframe tbody tr th {\n",
       "        vertical-align: top;\n",
       "    }\n",
       "\n",
       "    .dataframe thead th {\n",
       "        text-align: right;\n",
       "    }\n",
       "</style>\n",
       "<table border=\"1\" class=\"dataframe\">\n",
       "  <thead>\n",
       "    <tr style=\"text-align: right;\">\n",
       "      <th></th>\n",
       "      <th>0</th>\n",
       "    </tr>\n",
       "  </thead>\n",
       "  <tbody>\n",
       "    <tr>\n",
       "      <th>count</th>\n",
       "      <td>3</td>\n",
       "    </tr>\n",
       "    <tr>\n",
       "      <th>unique</th>\n",
       "      <td>3</td>\n",
       "    </tr>\n",
       "    <tr>\n",
       "      <th>top</th>\n",
       "      <td>{'TEMPO': 46337, 'SENSORV0': 654.00, 'SENSORV1...</td>\n",
       "    </tr>\n",
       "    <tr>\n",
       "      <th>freq</th>\n",
       "      <td>1</td>\n",
       "    </tr>\n",
       "  </tbody>\n",
       "</table>\n",
       "</div>"
      ],
      "text/plain": [
       "                                                        0\n",
       "count                                                   3\n",
       "unique                                                  3\n",
       "top     {'TEMPO': 46337, 'SENSORV0': 654.00, 'SENSORV1...\n",
       "freq                                                    1"
      ]
     },
     "execution_count": 21,
     "metadata": {},
     "output_type": "execute_result"
    }
   ],
   "source": [
    "fdf.describe()"
   ]
  },
  {
   "cell_type": "code",
   "execution_count": 22,
   "metadata": {},
   "outputs": [
    {
     "data": {
      "text/plain": [
       "(3, 1)"
      ]
     },
     "execution_count": 22,
     "metadata": {},
     "output_type": "execute_result"
    }
   ],
   "source": [
    "fdf.shape"
   ]
  },
  {
   "cell_type": "code",
   "execution_count": 29,
   "metadata": {},
   "outputs": [
    {
     "data": {
      "text/plain": [
       "<matplotlib.axes._subplots.AxesSubplot at 0x2396a670>"
      ]
     },
     "execution_count": 29,
     "metadata": {},
     "output_type": "execute_result"
    },
    {
     "data": {
      "image/png": "[encoded data removed]",
      "text/plain": [
       "<Figure size 432x288 with 1 Axes>"
      ]
     },
     "metadata": {
      "needs_background": "light"
     },
     "output_type": "display_data"
    }
   ],
   "source": [
    "%matplotlib inline\n",
    "import matplotlib.pyplot as plt\n",
    "#vdf[['VARMS','VBRMS','VCRMS','IARMS','IBRMS','ICRMS','VABRMS','VBCRMS','VCARMS','VABCTRMS','KVARHT','KWHA','KWHB','KWHC','KWHT','FREQ','TEMP','SERRS','WRSSI','UPTIME']].plot()\n",
    "\n",
    "#fdf[['VARMS','VBRMS','VCRMS']].plot(LineWidth=1)\n",
    "#fdf[['UPTIME','VARMS','VBRMS','VCRMS']].plot(LineWidth=1)\n",
    "VA = fdf[['VARMS','UPTIME']]\n",
    "\n",
    "VA.plot(LineWidth=1)"
   ]
  },
  {
   "cell_type": "code",
   "execution_count": 33,
   "metadata": {},
   "outputs": [
    {
     "data": {
      "image/png": "[encoded data removed]",
      "text/plain": [
       "<Figure size 432x288 with 1 Axes>"
      ]
     },
     "metadata": {
      "needs_background": "light"
     },
     "output_type": "display_data"
    }
   ],
   "source": [
    "VA.hist(column='UPTIME',bins=200)\n",
    "plt.show()"
   ]
  },
  {
   "cell_type": "code",
   "execution_count": null,
   "metadata": {},
   "outputs": [],
   "source": []
  },
  {
   "cell_type": "code",
   "execution_count": null,
   "metadata": {},
   "outputs": [],
   "source": []
  },
  {
   "cell_type": "code",
   "execution_count": null,
   "metadata": {},
   "outputs": [],
   "source": []
  }
 ],
 "metadata": {
  "kernelspec": {
   "display_name": "Python 2",
   "language": "python",
   "name": "python2"
  },
  "language_info": {
   "codemirror_mode": {
    "name": "ipython",
    "version": 2
   },
   "file_extension": ".py",
   "mimetype": "text/x-python",
   "name": "python",
   "nbconvert_exporter": "python",
   "pygments_lexer": "ipython2",
   "version": "2.7.17"
  }
 },
 "nbformat": 4,
 "nbformat_minor": 4
}
