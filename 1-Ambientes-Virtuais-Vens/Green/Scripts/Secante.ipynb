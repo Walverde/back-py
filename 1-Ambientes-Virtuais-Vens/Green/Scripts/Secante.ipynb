{
 "cells": [
  {
   "cell_type": "code",
   "execution_count": 4,
   "metadata": {},
   "outputs": [],
   "source": [
    "# Dependencias. \n",
    "\n",
    "import math "
   ]
  },
  {
   "cell_type": "markdown",
   "metadata": {},
   "source": [
    "\n",
    "prescisao\n",
    "print(prescisao)\n",
    "x\n",
    "print(x)\n",
    "x1\n",
    "print(x1)\n",
    "x0\n",
    "print(x0)\n",
    "dif\n",
    "print(dif)\n",
    "funcaox0\n",
    "print(funcaox0)\n",
    "funcaox\n",
    "print(funcaox)\n"
   ]
  },
  {
   "cell_type": "markdown",
   "metadata": {},
   "source": [
    "i = 0\n",
    "\n",
    "while True:\n",
    "    print(i)\n",
    "    i = i + 1\n",
    "    if(i > 3):\n",
    "        break"
   ]
  },
  {
   "cell_type": "markdown",
   "metadata": {},
   "source": [
    "ITMAX = 1000, casas, i = 1"
   ]
  },
  {
   "cell_type": "code",
   "execution_count": 31,
   "metadata": {},
   "outputs": [],
   "source": [
    "i = 0\n",
    "prescisao = 0.0001\n",
    "# x = \n",
    "x1 = 190\n",
    "x0 = 170\n",
    "casas = 3\n",
    "ITMAX = 1000\n",
    "#dif= \n",
    "#funcaox0)\n",
    "#funcaox1)\n"
   ]
  },
  {
   "cell_type": "code",
   "execution_count": 32,
   "metadata": {},
   "outputs": [
    {
     "name": "stdout",
     "output_type": "stream",
     "text": [
      "0.0001\n",
      "180.0\n",
      "180.0\n",
      "190\n",
      "10.0\n",
      "0.17364817766693028\n",
      "-0.17364817766693047\n"
     ]
    }
   ],
   "source": [
    "i = 0\n",
    "\n",
    "\n",
    "\n",
    "while True:\n",
    "#   \n",
    "    \n",
    "    \n",
    "    #Aqui vai ficar a funçõa. \n",
    "    funcaox0 = math.sin((x0*math.pi)/180)\n",
    "    funcaox1 = math.sin((x1*math.pi)/180)\n",
    "    x = round(((x0 * funcaox1) - (x1 * funcaox0)) / (funcaox1 - funcaox0),casas)\n",
    "    dif = round(abs(x - x1),casas)\n",
    "    x0 = x1\n",
    "    x1 = x\n",
    "\n",
    "    print(prescisao)\n",
    "    print(x)\n",
    "    print(x1)\n",
    "    print(x0)\n",
    "    print(dif)\n",
    "    print(funcaox0)\n",
    "    print(funcaox1)\n",
    "    \n",
    "    \n",
    "    i = i + 1\n",
    "    if(dif > prescisao and i<=ITMAX ):\n",
    "        break"
   ]
  },
  {
   "cell_type": "code",
   "execution_count": null,
   "metadata": {},
   "outputs": [],
   "source": []
  }
 ],
 "metadata": {
  "kernelspec": {
   "display_name": "Python 3",
   "language": "python",
   "name": "python3"
  },
  "language_info": {
   "codemirror_mode": {
    "name": "ipython",
    "version": 3
   },
   "file_extension": ".py",
   "mimetype": "text/x-python",
   "name": "python",
   "nbconvert_exporter": "python",
   "pygments_lexer": "ipython3",
   "version": "3.8.3"
  }
 },
 "nbformat": 4,
 "nbformat_minor": 4
}
