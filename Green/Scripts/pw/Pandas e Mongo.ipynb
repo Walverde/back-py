{
 "cells": [
  {
   "cell_type": "markdown",
   "metadata": {},
   "source": [
    "# Pandas e Mongo"
   ]
  },
  {
   "cell_type": "code",
   "execution_count": null,
   "metadata": {},
   "outputs": [],
   "source": [
    "#BIBLIOTECAS PADRAO QUE ESTAO SENDO ULTILIZADAS EM TODOS OS PROJETOS. (SO COPIAR E COLAR E DESCOMENTAR AS NESCESSARIAS)\n",
    "\n",
    "\n",
    "from pymongo import MongoClient\n",
    "#import numpy as np\n",
    "#import pymongo import mongo_\n",
    "#from pandas.io.json import json_normalize\n",
    "import pandas as pd\n",
    "import matplotlib.pyplot as plt\n",
    "import json\n",
    "import pprint\n",
    "#import warnings.filterwarnings('ignore')"
   ]
  },
  {
   "cell_type": "code",
   "execution_count": 65,
   "metadata": {},
   "outputs": [],
   "source": [
    "#Conectando ao mongo. \n",
    "client = MongoClient ('mongodb://localhost:27017/')\n",
    "#Acessando o banco de dados ESP\n",
    "#db = client.ESP\n",
    "db = client['ESP']\n",
    "#Acessando a colecao KWHT\n",
    "cl = db.KWHT\n",
    "#convertendo a colecao KWHT (cl) em Datafreme\n",
    "df = pd.DataFrame(list(cl.find()))\n"
   ]
  },
  {
   "cell_type": "code",
   "execution_count": 3,
   "metadata": {},
   "outputs": [
    {
     "ename": "NameError",
     "evalue": "name 'df' is not defined",
     "output_type": "error",
     "traceback": [
      "\u001b[1;31m---------------------------------------------------------------------------\u001b[0m",
      "\u001b[1;31mNameError\u001b[0m                                 Traceback (most recent call last)",
      "\u001b[1;32m<ipython-input-3-3c87c9d67b23>\u001b[0m in \u001b[0;36m<module>\u001b[1;34m\u001b[0m\n\u001b[0;32m      1\u001b[0m \u001b[1;31m#Imprimindo do DataFreme df, com a colecao cl (KWHT), importada do banco de dados Mongo\u001b[0m\u001b[1;33m\u001b[0m\u001b[1;33m\u001b[0m\u001b[1;33m\u001b[0m\u001b[0m\n\u001b[1;32m----> 2\u001b[1;33m \u001b[0mdf\u001b[0m\u001b[1;33m.\u001b[0m\u001b[0mhead\u001b[0m\u001b[1;33m(\u001b[0m\u001b[1;36m50\u001b[0m\u001b[1;33m)\u001b[0m\u001b[1;33m\u001b[0m\u001b[1;33m\u001b[0m\u001b[0m\n\u001b[0m",
      "\u001b[1;31mNameError\u001b[0m: name 'df' is not defined"
     ]
    }
   ],
   "source": [
    "#Imprimindo do DataFreme df, com a colecao cl (KWHT), importada do banco de dados Mongo\n",
    "df.head(50)"
   ]
  },
  {
   "cell_type": "code",
   "execution_count": 61,
   "metadata": {},
   "outputs": [
    {
     "data": {
      "text/plain": [
       "(211956, 3)"
      ]
     },
     "execution_count": 61,
     "metadata": {},
     "output_type": "execute_result"
    }
   ],
   "source": [
    "df.shape"
   ]
  },
  {
   "cell_type": "code",
   "execution_count": 2,
   "metadata": {},
   "outputs": [
    {
     "ename": "NameError",
     "evalue": "name 'df' is not defined",
     "output_type": "error",
     "traceback": [
      "\u001b[1;31m---------------------------------------------------------------------------\u001b[0m",
      "\u001b[1;31mNameError\u001b[0m                                 Traceback (most recent call last)",
      "\u001b[1;32m<ipython-input-2-2bc976b10fdf>\u001b[0m in \u001b[0;36m<module>\u001b[1;34m\u001b[0m\n\u001b[1;32m----> 1\u001b[1;33m \u001b[0mdf\u001b[0m\u001b[1;33m[\u001b[0m\u001b[1;34m'payload'\u001b[0m\u001b[1;33m]\u001b[0m\u001b[1;33m\u001b[0m\u001b[1;33m\u001b[0m\u001b[0m\n\u001b[0m",
      "\u001b[1;31mNameError\u001b[0m: name 'df' is not defined"
     ]
    }
   ],
   "source": [
    "df['payload']"
   ]
  },
  {
   "cell_type": "raw",
   "metadata": {},
   "source": [
    "#Conectando ao mongo. \n",
    "client = MongoClient ('mongodb://localhost:27017/')\n",
    "#Acessando o banco de dados ESP\n",
    "#db = client.ESP\n",
    "db = client['ESP']\n",
    "#Acessando a colecao KWHT\n",
    "cl = db.KWHT\n",
    "#Printando a collecao KWHT\n",
    "print (cl)"
   ]
  },
  {
   "cell_type": "raw",
   "metadata": {},
   "source": [
    "#Tendando ler o DataFreme com o Pandas \n",
    "\n",
    "# Codigo original: https://stackoverflow.com/questions/16249736/how-to-import-data-from-mongodb-to-pandas\n",
    "\n",
    "#import pymongo\n",
    "#import pandas as pd\n",
    "#from pymongo import MongoClient\n",
    "#client = MongoClient()\n",
    "#db = client.database_name\n",
    "#collection = db.collection_name\n",
    "#data = pd.DataFrame(list(collection.find()))\n",
    "\n",
    "# Tentativa 01\n",
    "\n",
    "#data = pd.DataFrame(list(cl.find()))\n"
   ]
  },
  {
   "cell_type": "raw",
   "metadata": {},
   "source": [
    "cl.head(20)"
   ]
  },
  {
   "cell_type": "raw",
   "metadata": {},
   "source": [
    "# tentativa 02\n",
    "data = pd.DataFrame.from_records(db.ESP.KWHT.find())"
   ]
  },
  {
   "cell_type": "raw",
   "metadata": {
    "scrolled": false
   },
   "source": [
    "data.head(20)"
   ]
  },
  {
   "cell_type": "raw",
   "metadata": {},
   "source": [
    "from pandas.io.json import json_normalize\n",
    "\n",
    "cursor = my_collection.find()\n",
    "data = json_normalize(cursor)"
   ]
  },
  {
   "cell_type": "raw",
   "metadata": {},
   "source": [
    "#Tentativa 03\n",
    "#https://stackoverflow.com/questions/16249736/how-to-import-data-from-mongodb-to-pandas\n",
    "\n",
    "\n",
    "\n",
    "import pandas as pd\n",
    "from pymongo import MongoClient\n",
    "\n",
    "\n",
    "def _connect_mongo(host, port, username, password, db):\n",
    "   \"\"\"A util for making a connection to mongo \"\"\"\n",
    "\n",
    "    if username and password:\n",
    "        mongo_uri = 'mongodb://%s:%s@%s:%s/%s' % (username, password, host, port, db)\n",
    "        conn = MongoClient(mongo_uri)\n",
    "    else:\n",
    "        conn = MongoClient(host, port)\n",
    "\n",
    "\n",
    "    return conn[db]\n",
    "\n",
    "\n",
    "def read_mongo(db, collection, query={}, host='localhost', port=27017, username=None, password=None, no_id=True):\n",
    "   \"\"\"Read from Mongo and Store into DataFrame \"\"\"\n",
    "\n",
    "    # Connect to MongoDB\n",
    "    db = _connect_mongo(host=host, port=port, username=username, password=password, db=db)\n",
    "\n",
    "    # Make a query to the specific DB and Collection\n",
    "    cursor = db[collection].find(query)\n",
    "\n",
    "    # Expand the cursor and construct the DataFrame\n",
    "    df =  pd.DataFrame(list(cursor))\n",
    "\n",
    "    # Delete the _id\n",
    "    if no_id:\n",
    "        del df['_id']\n",
    "\n",
    "    return df\n"
   ]
  },
  {
   "cell_type": "raw",
   "metadata": {},
   "source": [
    "\n",
    "\n",
    "\n",
    "#def read_mongo(db, KWHT, query={}, host='localhost', port=27017, username=None, password=None, no_id=True):\n",
    "   \"\"\"Read from Mongo and Store into DataFrame \"\"\"\n",
    "\n",
    "    # Connect to MongoDB\n",
    "    #db = _connect_mongo(host=host, port=port, username=username, password=password, db=db)\n",
    "\n",
    "    # Make a query to the specific DB and Collection\n",
    "    cursor = db[KWHT].find(query)\n",
    "\n",
    "    # Expand the cursor and construct the DataFrame\n",
    "    df =  pd.DataFrame(list(cursor))\n",
    "\n",
    "    # Delete the _id\n",
    "    if no_id:\n",
    "        del df['_id']\n",
    "\n",
    "    return df"
   ]
  },
  {
   "cell_type": "raw",
   "metadata": {},
   "source": [
    "# Tentativa 04 \n",
    "https://www.interviewqs.com/ddi_code_snippets/import_data_from_mongodb_to_pandas\n",
    "    \n",
    "client = MongoClient()\n",
    "#point the client at mongo URI\n",
    "client = MongoClient('Mongo URI')\n",
    "#select database\n",
    "db = client['database_name']\n",
    "#select the collection within the database\n",
    "test = db.test\n",
    "#convert entire collection to Pandas dataframe\n",
    "test = pd.DataFrame(list(test.find()))"
   ]
  },
  {
   "cell_type": "raw",
   "metadata": {},
   "source": [
    "client = MongoClient ('mongodb://localhost:27017/')\n",
    "#select database\n",
    "db = client['ESP']\n",
    "#select the collection within the database\n",
    "cl = db.KWHT\n",
    "#convert entire collection to Pandas dataframe\n",
    "df = pd.DataFrame(list(cl.find()))\n",
    "df.head()"
   ]
  },
  {
   "cell_type": "code",
   "execution_count": null,
   "metadata": {},
   "outputs": [],
   "source": []
  },
  {
   "cell_type": "code",
   "execution_count": null,
   "metadata": {},
   "outputs": [],
   "source": []
  }
 ],
 "metadata": {
  "kernelspec": {
   "display_name": "Python 3",
   "language": "python",
   "name": "python3"
  },
  "language_info": {
   "codemirror_mode": {
    "name": "ipython",
    "version": 3
   },
   "file_extension": ".py",
   "mimetype": "text/x-python",
   "name": "python",
   "nbconvert_exporter": "python",
   "pygments_lexer": "ipython3",
   "version": "3.8.3"
  }
 },
 "nbformat": 4,
 "nbformat_minor": 4
}
